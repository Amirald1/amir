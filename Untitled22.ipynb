{
  "nbformat": 4,
  "nbformat_minor": 0,
  "metadata": {
    "colab": {
      "provenance": [],
      "authorship_tag": "ABX9TyPmpYIY0BaeCrPZihNT3/e8",
      "include_colab_link": true
    },
    "kernelspec": {
      "name": "python3",
      "display_name": "Python 3"
    },
    "language_info": {
      "name": "python"
    }
  },
  "cells": [
    {
      "cell_type": "markdown",
      "metadata": {
        "id": "view-in-github",
        "colab_type": "text"
      },
      "source": [
        "<a href=\"https://colab.research.google.com/github/Amirald1/amir/blob/main/Untitled22.ipynb\" target=\"_parent\"><img src=\"https://colab.research.google.com/assets/colab-badge.svg\" alt=\"Open In Colab\"/></a>"
      ]
    },
    {
      "cell_type": "code",
      "execution_count": 2,
      "metadata": {
        "id": "2SqJ4afIHePx"
      },
      "outputs": [],
      "source": [
        "class Parent1:\n",
        "    def __init__(self):\n",
        "        self.name = \"Parent1\"\n",
        "\n",
        "    def method(self):\n",
        "        print(\"Parent1.method\")\n",
        "\n",
        "class Parent2:\n",
        "    def __init__(self):\n",
        "        self.name = \"Parent2\"\n",
        "\n",
        "    def method(self):\n",
        "        print(\"Parent2.method\")\n",
        "\n",
        "class Child(Parent1, Parent2):\n",
        "    def __init__(self):\n",
        "        super().__init__()"
      ]
    }
  ]
}