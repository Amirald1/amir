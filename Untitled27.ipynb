{
  "nbformat": 4,
  "nbformat_minor": 0,
  "metadata": {
    "colab": {
      "provenance": [],
      "authorship_tag": "ABX9TyNh9eBgOiOEWWlnPI320EQ4",
      "include_colab_link": true
    },
    "kernelspec": {
      "name": "python3",
      "display_name": "Python 3"
    },
    "language_info": {
      "name": "python"
    }
  },
  "cells": [
    {
      "cell_type": "markdown",
      "metadata": {
        "id": "view-in-github",
        "colab_type": "text"
      },
      "source": [
        "<a href=\"https://colab.research.google.com/github/Amirald1/amir/blob/main/Untitled27.ipynb\" target=\"_parent\"><img src=\"https://colab.research.google.com/assets/colab-badge.svg\" alt=\"Open In Colab\"/></a>"
      ]
    },
    {
      "cell_type": "code",
      "source": [
        "\n",
        "class Animal:\n",
        "    def sound(self):\n",
        "        print(\"The animal makes a sound\")\n",
        "\n",
        "# Parent class\n",
        "class Mammal(Animal):\n",
        "    def eat(self):\n",
        "        print(\"The mammal eats\")\n",
        "\n",
        "# Child class\n",
        "class Dog(Mammal):\n",
        "    def sound(self):\n",
        "        print(\"The dog barks\")"
      ],
      "metadata": {
        "id": "qHsS5p7MWfuO"
      },
      "execution_count": null,
      "outputs": []
    }
  ]
}