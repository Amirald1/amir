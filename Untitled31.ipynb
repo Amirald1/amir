{
  "nbformat": 4,
  "nbformat_minor": 0,
  "metadata": {
    "colab": {
      "provenance": [],
      "authorship_tag": "ABX9TyNX9tHexaniqPxDBs61VC3s",
      "include_colab_link": true
    },
    "kernelspec": {
      "name": "python3",
      "display_name": "Python 3"
    },
    "language_info": {
      "name": "python"
    }
  },
  "cells": [
    {
      "cell_type": "markdown",
      "metadata": {
        "id": "view-in-github",
        "colab_type": "text"
      },
      "source": [
        "<a href=\"https://colab.research.google.com/github/Amirald1/amir/blob/main/Untitled31.ipynb\" target=\"_parent\"><img src=\"https://colab.research.google.com/assets/colab-badge.svg\" alt=\"Open In Colab\"/></a>"
      ]
    },
    {
      "cell_type": "code",
      "source": [
        "#کد نهایی ک م م\n",
        "def lcm(x, y):\n",
        "   if x > y:\n",
        "       lcm_ = x\n",
        "   else:\n",
        "       lcm_ = y\n",
        "\n",
        "   while(True):\n",
        "       if((lcm_ % x == 0) and (lcm_ % y == 0)):\n",
        "           break\n",
        "       lcm_ += 1\n",
        "\n",
        "   return lcm_\n",
        "\n",
        "\n",
        "num1 = int(input())\n",
        "num2 = int(input())\n",
        "print(\"lcm: \", lcm(num1, num2))"
      ],
      "metadata": {
        "id": "h3FOckUiXpVw"
      },
      "execution_count": null,
      "outputs": []
    }
  ]
}