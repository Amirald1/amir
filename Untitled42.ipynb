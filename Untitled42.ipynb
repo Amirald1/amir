{
  "nbformat": 4,
  "nbformat_minor": 0,
  "metadata": {
    "colab": {
      "provenance": [],
      "authorship_tag": "ABX9TyN/i6oe9RQlNz0xZl6xoGKr",
      "include_colab_link": true
    },
    "kernelspec": {
      "name": "python3",
      "display_name": "Python 3"
    },
    "language_info": {
      "name": "python"
    }
  },
  "cells": [
    {
      "cell_type": "markdown",
      "metadata": {
        "id": "view-in-github",
        "colab_type": "text"
      },
      "source": [
        "<a href=\"https://colab.research.google.com/github/Amirald1/amir/blob/main/Untitled42.ipynb\" target=\"_parent\"><img src=\"https://colab.research.google.com/assets/colab-badge.svg\" alt=\"Open In Colab\"/></a>"
      ]
    },
    {
      "cell_type": "code",
      "source": [
        "\n",
        "class x:\n",
        "     def test(self,k=10,p=10):\n",
        "       if(k!=10 and p!=10):\n",
        "        self.k=k\n",
        "        self.p=p\n",
        "        return k*p\n",
        "       elif(k is not 10 and p==10):\n",
        "        return 3.14*k*k\n",
        "       else :\n",
        "        return 100\n",
        "\n",
        "<>:7: SyntaxWarning: \"is not\" with a literal. Did you mean \"!=\"?\n",
        "<>:7: SyntaxWarning: \"is not\" with a literal. Did you mean \"!=\"?\n",
        "<ipython-input-23-90aa6ca1bc15>:7: SyntaxWarning: \"is not\" with a literal. Did you mean \"!=\"?"
      ],
      "metadata": {
        "id": "4HGyeXKSaWZA"
      },
      "execution_count": null,
      "outputs": []
    }
  ]
}